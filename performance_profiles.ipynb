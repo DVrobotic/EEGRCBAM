{
 "cells": [
  {
   "cell_type": "code",
   "execution_count": null,
   "outputs": [],
   "source": [
    "#this notebook was run in google collab\n",
    "import numpy as np\n",
    "import pandas as pd\n",
    "import matplotlib.pyplot as plt"
   ],
   "metadata": {
    "collapsed": false
   }
  },
  {
   "cell_type": "code",
   "execution_count": null,
   "outputs": [],
   "source": [
    "!sudo apt install texlive texlive-latex-extra texlive-fonts-recommended dvipng\n",
    "!sudo apt-get install texlive-latex-extra texlive-fonts-recommended dvipng cm-super\n",
    "!pip install latex"
   ],
   "metadata": {
    "collapsed": false
   }
  },
  {
   "cell_type": "code",
   "execution_count": null,
   "outputs": [],
   "source": [
    "df = pd.read_csv('results/results_performance_profiles.csv', header=None)\n",
    "df.columns = ['index', 'methods', 'subjects', 'folds', 'acc', 'kappa', 'inv-kappa']\n",
    "df = df.set_index('index', drop = True)\n",
    "df"
   ],
   "metadata": {
    "collapsed": false
   }
  },
  {
   "cell_type": "code",
   "execution_count": null,
   "outputs": [],
   "source": [
    "df = pd.read_csv('results_performance_profiles.csv', index_col=0, header=None)\n",
    "df.columns = ['methods', 'subjects', 'folds', 'acc', 'kappa', 'inv-kappa']\n",
    "df[df['methods'] == 'df_FF_64']"
   ],
   "metadata": {
    "collapsed": false
   }
  },
  {
   "cell_type": "code",
   "execution_count": null,
   "outputs": [],
   "source": [
    "method_dict = {\n",
    "    'df_TT_32': '$EEGRCBAM_{32}$',\n",
    "    'df_FF_32': '$EEGCBAM_{32}$',\n",
    "    'df_TT_64': '$EEGRCBAM_{64}$',\n",
    "    'df_FF_64': '$EEGCBAM_{64}$',\n",
    "    'eegnet64': '$EEGNet_{64}$',\n",
    "    'eegnet32': '$EEGNet_{32}$',\n",
    "}"
   ],
   "metadata": {
    "collapsed": false
   }
  },
  {
   "cell_type": "code",
   "execution_count": null,
   "outputs": [],
   "source": [
    "def performance_profiles(\n",
    "        df,\n",
    "        cores = ['#f05039', '#00cc00', '#1f449caa'],\n",
    "        tipos = ['-', '--'],\n",
    "):\n",
    "    vetor = []\n",
    "    for subject in np.unique(np.array(df['subjects'])):\n",
    "        for method in np.unique(np.array(df['methods'])):\n",
    "            temp_df = df[(df['subjects'] == subject) & (df['methods'] == method)]\n",
    "            vetor.append([method, subject, (1 / temp_df['kappa']).mean()])\n",
    "\n",
    "    vetor_df = pd.DataFrame(vetor, columns=['methods', 'subjects', 'avg_acc'])\n",
    "\n",
    "    subject_max = []\n",
    "    for subject in np.unique(np.array(df['subjects'])):\n",
    "        subject_max.append([subject, vetor_df[(vetor_df['subjects'] == subject)]['avg_acc'].min()])\n",
    "\n",
    "    subject_max_df = pd.DataFrame(subject_max, columns=['subject', 'max'])\n",
    "\n",
    "    taus_values = []\n",
    "    for i in range(len(vetor_df)):\n",
    "        tau = np.array(vetor_df.iloc[i]['avg_acc'] / subject_max_df[subject_max_df['subject'] == vetor_df.iloc[i]['subjects']]['max']).min()\n",
    "        taus_values.append(tau)\n",
    "\n",
    "    vetor_df['tau'] = taus_values\n",
    "\n",
    "    teste = np.sort(np.array(vetor_df['tau']))\n",
    "    min_tau = teste[0]\n",
    "    max_tau = teste[-1]\n",
    "\n",
    "    var1 = 0\n",
    "    var2 = 0\n",
    "    for method in np.unique(np.array(df['methods'])):\n",
    "        teste = np.sort(np.array(vetor_df[vetor_df['methods'] == method]['tau']))\n",
    "        taus = [min_tau, min_tau]\n",
    "        ro = [0, 0]\n",
    "        for t in teste:\n",
    "            if t == taus[-1]:\n",
    "                ro[-1] += 1/9\n",
    "            else:\n",
    "                taus.append(t)\n",
    "                ro.append(ro[-1])\n",
    "                taus.append(t)\n",
    "                ro.append(ro[-1] + 1/9)\n",
    "\n",
    "        taus.append(max_tau)\n",
    "        ro.append(1)\n",
    "        plt.plot(taus, ro, tipos[var2 % 2], label=method_dict[method], color=cores[var1 // 2])\n",
    "        var1 += 1\n",
    "        var2 += 1\n",
    "\n",
    "    plt.xlim([min_tau, max_tau])\n",
    "    plt.xscale('log')\n",
    "    plt.xticks([1.0, 1.2, 1.4, 1.6, 1.8, 2.0, 2.2], [1.0, 1.2, 1.4, 1.6, 1.8, 2.0, 2.2])\n",
    "    plt.xlabel(r'$\\tau$')\n",
    "    plt.ylabel(r'$\\rho$($\\tau$)')\n",
    "    plt.legend(fontsize=\"10\")\n",
    "    # plt.savefig('performance_profile.pdf')\n",
    "    # plt.show()\n",
    "\n",
    "plt.rcParams[\"text.usetex\"] = True\n",
    "plt.rcParams[\"font.family\"] = \"serif\"\n",
    "plt.rcParams[\"font.size\"] = 12\n",
    "plt.figure(figsize=(5, 3))\n",
    "\n",
    "\n",
    "performance_profiles(df[df['methods'].isin(['df_TT_32', 'df_FF_32', 'df_TT_64', 'df_FF_64', 'eegnet64', 'eegnet32'])])\n",
    "plt.savefig('performance_profile.pdf', format='pdf', bbox_inches='tight')"
   ],
   "metadata": {
    "collapsed": false
   }
  }
 ],
 "metadata": {
  "kernelspec": {
   "display_name": "Python 3",
   "language": "python",
   "name": "python3"
  },
  "language_info": {
   "codemirror_mode": {
    "name": "ipython",
    "version": 2
   },
   "file_extension": ".py",
   "mimetype": "text/x-python",
   "name": "python",
   "nbconvert_exporter": "python",
   "pygments_lexer": "ipython2",
   "version": "2.7.6"
  }
 },
 "nbformat": 4,
 "nbformat_minor": 0
}
