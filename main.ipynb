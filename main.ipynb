{
 "cells": [
  {
   "cell_type": "code",
   "execution_count": null,
   "metadata": {},
   "outputs": [],
   "source": [
    "from moabb.datasets import BNCI2014001\n",
    "from moabb.paradigms import MotorImagery\n",
    "import numpy as np\n",
    "import pandas as pd\n",
    "from sklearn.model_selection import StratifiedKFold\n",
    "from models.EEGNetAttention import EEGNnetAttention, EEGNnetAttentionModel"
   ]
  },
  {
   "cell_type": "code",
   "execution_count": null,
   "outputs": [],
   "source": [
    "clfs = {\n",
    "    'eegnetAttention_TT_32': (EEGNnetAttention(res=[True, True], temporal_conv_size=32), {'lr': 0.001}),\n",
    "}"
   ],
   "metadata": {
    "collapsed": false
   }
  },
  {
   "cell_type": "code",
   "execution_count": null,
   "outputs": [],
   "source": [
    "subjects = [[1], [2], [3], [4], [5], [6], [7], [8], [9]]\n",
    "sessions = [['session_T', 'session_E']]\n",
    "events = ['left_hand', 'right_hand', 'feet', 'tongue']\n",
    "events_dict = {'left_hand':0, 'right_hand':1, 'feet':2, 'tongue':3}\n",
    "n_classes = len(events)\n",
    "tmin, tmax = 0.5, 2.5\n",
    "fmin, fmax = 4, 40\n",
    "fLoop = None\n",
    "baseline=None\n",
    "channels = None\n",
    "resample = 128\n",
    "rate = resample if resample is not None else 250\n",
    "window_size = 2.0\n",
    "step_window = 0.2\n",
    "window_train_start = np.array([0.5])\n",
    "window_test_start =  np.array([0.5])\n",
    "\n",
    "window_size_map = int(rate*window_size)\n",
    "window_train_start_map = (rate*(window_train_start-tmin)).astype(int)\n",
    "window_test_start_map = (rate*(window_test_start-tmin)).astype(int)\n",
    "\n",
    "\n",
    "skf = StratifiedKFold(n_splits=5, shuffle=True, random_state=42)\n",
    "dataset = BNCI2014001()\n",
    "paradigm = MotorImagery(\n",
    "    events=events, n_classes=len(events),\n",
    "    tmin=tmin, tmax=tmax,\n",
    "    fmin=fmin, fmax=fmax,\n",
    "    baseline=baseline,\n",
    "    channels=channels,\n",
    "    resample=resample\n",
    ")"
   ],
   "metadata": {
    "collapsed": false
   }
  },
  {
   "cell_type": "code",
   "execution_count": null,
   "metadata": {
    "collapsed": false
   },
   "outputs": [],
   "source": [
    "def crop_train(data, labels, window_size_map, start_window_map):\n",
    "    X = []\n",
    "    y = []\n",
    "    for s in start_window_map:\n",
    "        X.append(data[:, :, s:s+window_size_map])\n",
    "        y.append(labels)\n",
    "\n",
    "    X = np.array(X)\n",
    "    X = np.concatenate(X, axis=0)\n",
    "    y = np.concatenate(y, axis=None)\n",
    "\n",
    "    return X, y\n"
   ]
  },
  {
   "cell_type": "code",
   "execution_count": null,
   "metadata": {
    "collapsed": false
   },
   "outputs": [],
   "source": [
    "def load_Xy(dataset, subjects, sessions, fmin, fmax):\n",
    "    paradigm.fmin = fmin\n",
    "    paradigm.fmax = fmax\n",
    "    X, y, metadata = paradigm.get_data(dataset=dataset, subjects=subjects)\n",
    "    y = [events_dict[label] for label in y]\n",
    "    X, y = np.array(X), np.array(y)\n",
    "\n",
    "    m = np.array(metadata['session'])\n",
    "    s = np.array(sessions)\n",
    "    isin = np.isin(m, s)\n",
    "    X = X[isin]\n",
    "    y = y[isin]\n",
    "\n",
    "    return X, y"
   ]
  },
  {
   "cell_type": "code",
   "execution_count": null,
   "metadata": {
    "collapsed": false
   },
   "outputs": [],
   "source": [
    "def load_Xy_with_bands(dataset, subjects, sessions, fLoop):\n",
    "    X_list = []\n",
    "    y_temp = None\n",
    "    for fmin_temp, fmax_temp in fLoop:\n",
    "        X_temp, y_temp = load_Xy(dataset, subjects, sessions, fmin_temp, fmax_temp)\n",
    "        X_list.append(X_temp)\n",
    "    return np.stack(X_list, axis=-1), y_temp"
   ]
  },
  {
   "cell_type": "code",
   "execution_count": null,
   "metadata": {
    "collapsed": false
   },
   "outputs": [],
   "source": [
    "for clf_name, clf_data in clfs.items():\n",
    "    clf, metadata = clf_data\n",
    "    results = []\n",
    "    proba = []\n",
    "    for sub in subjects:\n",
    "        for sec in sessions:\n",
    "\n",
    "            if fLoop is None:\n",
    "                X, y = load_Xy(dataset, sub, sec, fmin, fmax)\n",
    "            else:\n",
    "                X, y = load_Xy_with_bands(dataset, sub, sec, fLoop)\n",
    "\n",
    "            fold_number = 0\n",
    "            acc_avg = 0\n",
    "            for train_index, test_index in skf.split(X, y):\n",
    "                \n",
    "                fold_number += 1\n",
    "                print(sub[0] if len(sub)==1 else sub, sec, fold_number, '                                  ')\n",
    "\n",
    "                X_train, X_test = X[train_index], X[test_index]\n",
    "                y_train, y_test = y[train_index], y[test_index]\n",
    "                X_train, y_train = crop_train(X_train, y_train, window_size_map, window_train_start_map)\n",
    "                X_track, y_track = crop_train(X_test, y_test, window_size_map, window_train_start_map)\n",
    "                acc = clf.fit(X_train, y_train, lr=metadata['lr'], iterations=1000, batchsize=64, track=(X_track, y_track))\n",
    "                acc_avg += acc\n",
    "\n",
    "                for start_wind_map in window_test_start_map:\n",
    "                    for trial in range(len(y_test)):\n",
    "                        \n",
    "                        X_test_windowed = X_test[:, :, start_wind_map:start_wind_map+window_size_map]\n",
    "\n",
    "                        results.append( [sub[0] if len(sub)==1 else sub, sec, fold_number, trial, np.round(tmin+start_wind_map/rate, decimals=2), y_test[trial]] )\n",
    "                        proba.append( np.round(*clf.predict_proba([X_test_windowed[trial]]), decimals=4) )\n",
    "            print(f\"resultados: {acc_avg/5}\\n\")\n",
    "        \n",
    "    results = pd.DataFrame(results, columns=['subjects', 'session', 'fold_number', 'trial', 'window_test_start', 'label'])\n",
    "    proba = pd.DataFrame(proba, columns=['proba_' + event for event in events])\n",
    "    results = pd.concat([results, proba], axis=1)\n",
    "\n",
    "    results.to_csv('results_'+clf_name+'.csv', index=False)"
   ]
  }
 ],
 "metadata": {
  "kernelspec": {
   "display_name": "Python 3",
   "language": "python",
   "name": "python3"
  },
  "language_info": {
   "codemirror_mode": {
    "name": "ipython",
    "version": 3
   },
   "file_extension": ".py",
   "mimetype": "text/x-python",
   "name": "python",
   "nbconvert_exporter": "python",
   "pygments_lexer": "ipython3",
   "version": "3.10.11"
  },
  "orig_nbformat": 4
 },
 "nbformat": 4,
 "nbformat_minor": 2
}
